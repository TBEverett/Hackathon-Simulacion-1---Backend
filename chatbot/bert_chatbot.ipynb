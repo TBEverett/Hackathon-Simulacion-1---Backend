{
 "cells": [
  {
   "cell_type": "markdown",
   "metadata": {},
   "source": [
    "# IMDB"
   ]
  },
  {
   "cell_type": "code",
   "execution_count": 1,
   "metadata": {},
   "outputs": [
    {
     "name": "stderr",
     "output_type": "stream",
     "text": [
      "/home/icksir/miniconda3/envs/pytorch/lib/python3.12/site-packages/tqdm/auto.py:21: TqdmWarning: IProgress not found. Please update jupyter and ipywidgets. See https://ipywidgets.readthedocs.io/en/stable/user_install.html\n",
      "  from .autonotebook import tqdm as notebook_tqdm\n"
     ]
    },
    {
     "data": {
      "text/plain": [
       "{'text': 'I love sci-fi and am willing to put up with a lot. Sci-fi movies/TV are usually underfunded, under-appreciated and misunderstood. I tried to like this, I really did, but it is to good TV sci-fi as Babylon 5 is to Star Trek (the original). Silly prosthetics, cheap cardboard sets, stilted dialogues, CG that doesn\\'t match the background, and painfully one-dimensional characters cannot be overcome with a \\'sci-fi\\' setting. (I\\'m sure there are those of you out there who think Babylon 5 is good sci-fi TV. It\\'s not. It\\'s clichéd and uninspiring.) While US viewers might like emotion and character development, sci-fi is a genre that does not take itself seriously (cf. Star Trek). It may treat important issues, yet not as a serious philosophy. It\\'s really difficult to care about the characters here as they are not simply foolish, just missing a spark of life. Their actions and reactions are wooden and predictable, often painful to watch. The makers of Earth KNOW it\\'s rubbish as they have to always say \"Gene Roddenberry\\'s Earth...\" otherwise people would not continue watching. Roddenberry\\'s ashes must be turning in their orbit as this dull, cheap, poorly edited (watching it without advert breaks really brings this home) trudging Trabant of a show lumbers into space. Spoiler. So, kill off a main character. And then bring him back as another actor. Jeeez! Dallas all over again.',\n",
       " 'label': 0}"
      ]
     },
     "execution_count": 1,
     "metadata": {},
     "output_type": "execute_result"
    }
   ],
   "source": [
    "from datasets import load_dataset\n",
    "imdb = load_dataset(\"imdb\")\n",
    "imdb[\"test\"][0]"
   ]
  },
  {
   "cell_type": "code",
   "execution_count": 2,
   "metadata": {},
   "outputs": [],
   "source": [
    "from transformers import AutoTokenizer\n",
    "tokenizer = AutoTokenizer.from_pretrained(\"distilbert/distilbert-base-uncased\")\n",
    "\n",
    "def preprocess_function(examples):\n",
    "    return tokenizer(examples[\"text\"], truncation=True)\n",
    "\n",
    "tokenized_imdb = imdb.map(preprocess_function, batched=True)"
   ]
  },
  {
   "cell_type": "code",
   "execution_count": 3,
   "metadata": {},
   "outputs": [],
   "source": [
    "from transformers import DataCollatorWithPadding\n",
    "data_collator = DataCollatorWithPadding(tokenizer=tokenizer)\n",
    "\n",
    "import evaluate\n",
    "accuracy = evaluate.load(\"accuracy\")\n",
    "\n",
    "import numpy as np\n",
    "\n",
    "def compute_metrics(eval_pred):\n",
    "    predictions, labels = eval_pred\n",
    "    predictions = np.argmax(predictions, axis=1)\n",
    "    return accuracy.compute(predictions=predictions, references=labels)"
   ]
  },
  {
   "cell_type": "code",
   "execution_count": 6,
   "metadata": {},
   "outputs": [],
   "source": [
    "id2label = {0: \"NEGATIVE\", 1: \"POSITIVE\"}\n",
    "label2id = {\"NEGATIVE\": 0, \"POSITIVE\": 1}"
   ]
  },
  {
   "cell_type": "code",
   "execution_count": 8,
   "metadata": {},
   "outputs": [
    {
     "name": "stderr",
     "output_type": "stream",
     "text": [
      "Some weights of DistilBertForSequenceClassification were not initialized from the model checkpoint at distilbert/distilbert-base-uncased and are newly initialized: ['classifier.bias', 'classifier.weight', 'pre_classifier.bias', 'pre_classifier.weight']\n",
      "You should probably TRAIN this model on a down-stream task to be able to use it for predictions and inference.\n"
     ]
    }
   ],
   "source": [
    "from transformers import AutoModelForSequenceClassification, TrainingArguments, Trainer\n",
    "\n",
    "model = AutoModelForSequenceClassification.from_pretrained(\n",
    "    \"distilbert/distilbert-base-uncased\", num_labels=2, id2label=id2label, label2id=label2id\n",
    ")\n",
    "\n",
    "training_args = TrainingArguments(\n",
    "    output_dir=\"my_awesome_model\",\n",
    "    learning_rate=2e-5,\n",
    "    per_device_train_batch_size=16,\n",
    "    per_device_eval_batch_size=16,\n",
    "    num_train_epochs=2,\n",
    "    weight_decay=0.01,\n",
    "    evaluation_strategy=\"epoch\",\n",
    "    save_strategy=\"epoch\"\n",
    ")\n",
    "\n",
    "trainer = Trainer(\n",
    "    model=model,\n",
    "    args=training_args,\n",
    "    train_dataset=tokenized_imdb[\"train\"],\n",
    "    eval_dataset=tokenized_imdb[\"test\"],\n",
    "    tokenizer=tokenizer,\n",
    "    data_collator=data_collator,\n",
    "    compute_metrics=compute_metrics,\n",
    ")"
   ]
  },
  {
   "cell_type": "code",
   "execution_count": 10,
   "metadata": {},
   "outputs": [],
   "source": [
    "for param in model.base_model.parameters():\n",
    "    param.requires_grad = False"
   ]
  },
  {
   "cell_type": "code",
   "execution_count": 12,
   "metadata": {},
   "outputs": [
    {
     "data": {
      "text/plain": [
       "=========================================================================================================\n",
       "Layer (type:depth-idx)                                  Param #                   Trainable\n",
       "=========================================================================================================\n",
       "DistilBertForSequenceClassification                     --                        Partial\n",
       "├─DistilBertModel: 1-1                                  --                        False\n",
       "│    └─Embeddings: 2-1                                  --                        False\n",
       "│    │    └─Embedding: 3-1                              (23,440,896)              False\n",
       "│    │    └─Embedding: 3-2                              (393,216)                 False\n",
       "│    │    └─LayerNorm: 3-3                              (1,536)                   False\n",
       "│    │    └─Dropout: 3-4                                --                        --\n",
       "│    └─Transformer: 2-2                                 --                        False\n",
       "│    │    └─ModuleList: 3-5                             (42,527,232)              False\n",
       "├─Linear: 1-2                                           590,592                   True\n",
       "├─Linear: 1-3                                           1,538                     True\n",
       "├─Dropout: 1-4                                          --                        --\n",
       "=========================================================================================================\n",
       "Total params: 66,955,010\n",
       "Trainable params: 592,130\n",
       "Non-trainable params: 66,362,880\n",
       "========================================================================================================="
      ]
     },
     "execution_count": 12,
     "metadata": {},
     "output_type": "execute_result"
    }
   ],
   "source": [
    "from torchinfo import summary\n",
    "\n",
    "summary(model, col_names=(\"num_params\", \"trainable\"))"
   ]
  },
  {
   "cell_type": "code",
   "execution_count": null,
   "metadata": {},
   "outputs": [],
   "source": [
    "trainer.train()"
   ]
  },
  {
   "cell_type": "markdown",
   "metadata": {},
   "source": [
    "# Chatbot"
   ]
  },
  {
   "cell_type": "code",
   "execution_count": 99,
   "metadata": {},
   "outputs": [
    {
     "data": {
      "text/html": [
       "<div>\n",
       "<style scoped>\n",
       "    .dataframe tbody tr th:only-of-type {\n",
       "        vertical-align: middle;\n",
       "    }\n",
       "\n",
       "    .dataframe tbody tr th {\n",
       "        vertical-align: top;\n",
       "    }\n",
       "\n",
       "    .dataframe thead th {\n",
       "        text-align: right;\n",
       "    }\n",
       "</style>\n",
       "<table border=\"1\" class=\"dataframe\">\n",
       "  <thead>\n",
       "    <tr style=\"text-align: right;\">\n",
       "      <th></th>\n",
       "      <th>text</th>\n",
       "      <th>label</th>\n",
       "    </tr>\n",
       "  </thead>\n",
       "  <tbody>\n",
       "    <tr>\n",
       "      <th>0</th>\n",
       "      <td>Hola</td>\n",
       "      <td>saludo</td>\n",
       "    </tr>\n",
       "    <tr>\n",
       "      <th>1</th>\n",
       "      <td>Cómo estás</td>\n",
       "      <td>saludo</td>\n",
       "    </tr>\n",
       "    <tr>\n",
       "      <th>2</th>\n",
       "      <td>como estas</td>\n",
       "      <td>saludo</td>\n",
       "    </tr>\n",
       "    <tr>\n",
       "      <th>3</th>\n",
       "      <td>holaaaa</td>\n",
       "      <td>saludo</td>\n",
       "    </tr>\n",
       "    <tr>\n",
       "      <th>4</th>\n",
       "      <td>holap</td>\n",
       "      <td>saludo</td>\n",
       "    </tr>\n",
       "  </tbody>\n",
       "</table>\n",
       "</div>"
      ],
      "text/plain": [
       "         text   label\n",
       "0        Hola  saludo\n",
       "1  Cómo estás  saludo\n",
       "2  como estas  saludo\n",
       "3     holaaaa  saludo\n",
       "4       holap  saludo"
      ]
     },
     "execution_count": 99,
     "metadata": {},
     "output_type": "execute_result"
    }
   ],
   "source": [
    "import pandas as pd\n",
    "\n",
    "df = pd.read_csv(\"category.csv\", sep=\";\")\n",
    "df.head()"
   ]
  },
  {
   "cell_type": "code",
   "execution_count": 100,
   "metadata": {},
   "outputs": [
    {
     "name": "stderr",
     "output_type": "stream",
     "text": [
      "/tmp/ipykernel_22334/3803933355.py:4: FutureWarning: Downcasting behavior in `replace` is deprecated and will be removed in a future version. To retain the old behavior, explicitly call `result.infer_objects(copy=False)`. To opt-in to the future behavior, set `pd.set_option('future.no_silent_downcasting', True)`\n",
      "  df['label'] = df['label'].replace(label2id)\n"
     ]
    }
   ],
   "source": [
    "id2label = {0: \"saludo\", 1: \"despedida\", 2: \"equipo\"}\n",
    "label2id = {\"saludo\": 0, \"despedida\": 1, \"equipo\": 2}\n",
    "\n",
    "df['label'] = df['label'].replace(label2id)"
   ]
  },
  {
   "cell_type": "code",
   "execution_count": 101,
   "metadata": {},
   "outputs": [
    {
     "data": {
      "text/plain": [
       "'¿Quiénes están en su equipo?'"
      ]
     },
     "execution_count": 101,
     "metadata": {},
     "output_type": "execute_result"
    }
   ],
   "source": [
    "sentence = df.iloc[122]['text']\n",
    "sentence"
   ]
  },
  {
   "cell_type": "code",
   "execution_count": 102,
   "metadata": {},
   "outputs": [],
   "source": [
    "def apply_lemma(sentence):\n",
    "    doc = nlp(sentence)\n",
    "    lemma = [w.lemma_ for w in doc if w.pos_ != 'PUNCT']\n",
    "    return ' '.join(lemma).lower()\n",
    "\n",
    "df['text'] = df['text'].apply(apply_lemma)"
   ]
  },
  {
   "cell_type": "code",
   "execution_count": 103,
   "metadata": {},
   "outputs": [
    {
     "data": {
      "text/plain": [
       "'quién estar en su equipo'"
      ]
     },
     "execution_count": 103,
     "metadata": {},
     "output_type": "execute_result"
    }
   ],
   "source": [
    "df.iloc[122]['text']"
   ]
  },
  {
   "cell_type": "code",
   "execution_count": 104,
   "metadata": {},
   "outputs": [],
   "source": [
    "from sklearn.model_selection import train_test_split\n",
    "\n",
    "train, test = train_test_split(df, test_size=0.2, stratify=df[\"label\"])"
   ]
  },
  {
   "cell_type": "code",
   "execution_count": 106,
   "metadata": {},
   "outputs": [],
   "source": [
    "from datasets import Dataset\n",
    "train_ds = Dataset.from_pandas(train, split=\"train\", preserve_index=False)\n",
    "test_ds = Dataset.from_pandas(test, split=\"test\", preserve_index=False)"
   ]
  },
  {
   "cell_type": "code",
   "execution_count": 107,
   "metadata": {},
   "outputs": [
    {
     "name": "stderr",
     "output_type": "stream",
     "text": [
      "\n",
      "Map: 100%|██████████| 132/132 [00:00<00:00, 35716.93 examples/s]\n",
      "\n",
      "Map: 100%|██████████| 132/132 [00:00<00:00, 32052.81 examples/s]\n"
     ]
    }
   ],
   "source": [
    "from transformers import AutoTokenizer\n",
    "tokenizer = AutoTokenizer.from_pretrained(\"distilbert/distilbert-base-multilingual-cased\")\n",
    "\n",
    "def preprocess_function(examples):\n",
    "    return tokenizer(examples[\"text\"], truncation=True)\n",
    "\n",
    "tokenized_train = train_ds.map(preprocess_function, batched=True)\n",
    "tokenized_test = train_ds.map(preprocess_function, batched=True)"
   ]
  },
  {
   "cell_type": "code",
   "execution_count": 108,
   "metadata": {},
   "outputs": [
    {
     "data": {
      "text/plain": [
       "Dataset({\n",
       "    features: ['text', 'label'],\n",
       "    num_rows: 34\n",
       "})"
      ]
     },
     "execution_count": 108,
     "metadata": {},
     "output_type": "execute_result"
    }
   ],
   "source": [
    "test_ds"
   ]
  },
  {
   "cell_type": "code",
   "execution_count": 109,
   "metadata": {},
   "outputs": [],
   "source": [
    "from transformers import DataCollatorWithPadding\n",
    "data_collator = DataCollatorWithPadding(tokenizer=tokenizer)\n",
    "\n",
    "import evaluate\n",
    "accuracy = evaluate.load(\"accuracy\")\n",
    "\n",
    "import numpy as np\n",
    "\n",
    "def compute_metrics(eval_pred):\n",
    "    predictions, labels = eval_pred\n",
    "    predictions = np.argmax(predictions, axis=1)\n",
    "    return accuracy.compute(predictions=predictions, references=labels)"
   ]
  },
  {
   "cell_type": "code",
   "execution_count": 110,
   "metadata": {},
   "outputs": [
    {
     "name": "stderr",
     "output_type": "stream",
     "text": [
      "Some weights of DistilBertForSequenceClassification were not initialized from the model checkpoint at distilbert/distilbert-base-multilingual-cased and are newly initialized: ['classifier.bias', 'classifier.weight', 'pre_classifier.bias', 'pre_classifier.weight']\n",
      "You should probably TRAIN this model on a down-stream task to be able to use it for predictions and inference.\n"
     ]
    }
   ],
   "source": [
    "from transformers import AutoModelForSequenceClassification, TrainingArguments, Trainer\n",
    "\n",
    "model = AutoModelForSequenceClassification.from_pretrained(\n",
    "    \"distilbert/distilbert-base-multilingual-cased\", num_labels=3, id2label=id2label, label2id=label2id\n",
    ")\n",
    "\n",
    "training_args = TrainingArguments(\n",
    "    output_dir=\"model_ckp\",\n",
    "    learning_rate=2e-5,\n",
    "    per_device_train_batch_size=64,\n",
    "    per_device_eval_batch_size=64,\n",
    "    num_train_epochs=20,\n",
    "    weight_decay=0.01,\n",
    "    evaluation_strategy=\"epoch\",\n",
    "    save_strategy=\"epoch\",\n",
    "    save_total_limit=5,\n",
    "    load_best_model_at_end=True,\n",
    "    metric_for_best_model=\"accuracy\"\n",
    ")\n",
    "\n",
    "trainer = Trainer(\n",
    "    model=model,\n",
    "    args=training_args,\n",
    "    train_dataset=tokenized_train,\n",
    "    eval_dataset=tokenized_test,\n",
    "    tokenizer=tokenizer,\n",
    "    data_collator=data_collator,\n",
    "    compute_metrics=compute_metrics,\n",
    ")"
   ]
  },
  {
   "cell_type": "code",
   "execution_count": 111,
   "metadata": {},
   "outputs": [],
   "source": [
    "for param in model.base_model.parameters():\n",
    "    param.requires_grad = False"
   ]
  },
  {
   "cell_type": "code",
   "execution_count": 112,
   "metadata": {},
   "outputs": [
    {
     "data": {
      "text/plain": [
       "=========================================================================================================\n",
       "Layer (type:depth-idx)                                  Param #                   Trainable\n",
       "=========================================================================================================\n",
       "DistilBertForSequenceClassification                     --                        Partial\n",
       "├─DistilBertModel: 1-1                                  --                        False\n",
       "│    └─Embeddings: 2-1                                  --                        False\n",
       "│    │    └─Embedding: 3-1                              (91,812,096)              False\n",
       "│    │    └─Embedding: 3-2                              (393,216)                 False\n",
       "│    │    └─LayerNorm: 3-3                              (1,536)                   False\n",
       "│    │    └─Dropout: 3-4                                --                        --\n",
       "│    └─Transformer: 2-2                                 --                        False\n",
       "│    │    └─ModuleList: 3-5                             (42,527,232)              False\n",
       "├─Linear: 1-2                                           590,592                   True\n",
       "├─Linear: 1-3                                           2,307                     True\n",
       "├─Dropout: 1-4                                          --                        --\n",
       "=========================================================================================================\n",
       "Total params: 135,326,979\n",
       "Trainable params: 592,899\n",
       "Non-trainable params: 134,734,080\n",
       "========================================================================================================="
      ]
     },
     "execution_count": 112,
     "metadata": {},
     "output_type": "execute_result"
    }
   ],
   "source": [
    "from torchinfo import summary\n",
    "summary(model, col_names=(\"num_params\", \"trainable\"))"
   ]
  },
  {
   "cell_type": "code",
   "execution_count": 113,
   "metadata": {},
   "outputs": [
    {
     "name": "stderr",
     "output_type": "stream",
     "text": [
      "  0%|          | 0/60 [03:48<?, ?it/s]\n",
      "\n",
      "                                      \n",
      "\n",
      "\u001b[A\u001b[A                               \n",
      "  0%|          | 0/60 [03:17<?, ?it/s]        \n",
      "\u001b[A\n",
      "\u001b[A"
     ]
    },
    {
     "name": "stdout",
     "output_type": "stream",
     "text": [
      "{'eval_loss': 1.0894174575805664, 'eval_accuracy': 0.3484848484848485, 'eval_runtime': 0.1382, 'eval_samples_per_second': 955.177, 'eval_steps_per_second': 21.709, 'epoch': 1.0}\n"
     ]
    },
    {
     "name": "stderr",
     "output_type": "stream",
     "text": [
      "\n",
      "                                      \n",
      "\u001b[A                                           \n",
      "\n",
      "  0%|          | 0/60 [03:19<?, ?it/s]\n",
      "\u001b[A\n",
      "\u001b[A"
     ]
    },
    {
     "name": "stdout",
     "output_type": "stream",
     "text": [
      "{'eval_loss': 1.084415316581726, 'eval_accuracy': 0.3484848484848485, 'eval_runtime': 0.1163, 'eval_samples_per_second': 1135.39, 'eval_steps_per_second': 25.804, 'epoch': 2.0}\n"
     ]
    },
    {
     "name": "stderr",
     "output_type": "stream",
     "text": [
      "\n",
      "                                      \n",
      "\u001b[A                                           \n",
      "\n",
      "  0%|          | 0/60 [03:20<?, ?it/s]\n",
      "\u001b[A\n",
      "\u001b[A"
     ]
    },
    {
     "name": "stdout",
     "output_type": "stream",
     "text": [
      "{'eval_loss': 1.079811692237854, 'eval_accuracy': 0.3484848484848485, 'eval_runtime': 0.1173, 'eval_samples_per_second': 1125.237, 'eval_steps_per_second': 25.574, 'epoch': 3.0}\n"
     ]
    },
    {
     "name": "stderr",
     "output_type": "stream",
     "text": [
      "\n",
      "                                      \n",
      "\u001b[A                                            \n",
      "\n",
      "  0%|          | 0/60 [03:21<?, ?it/s]\n",
      "\u001b[A\n",
      "\u001b[A"
     ]
    },
    {
     "name": "stdout",
     "output_type": "stream",
     "text": [
      "{'eval_loss': 1.075578212738037, 'eval_accuracy': 0.3484848484848485, 'eval_runtime': 0.1172, 'eval_samples_per_second': 1126.489, 'eval_steps_per_second': 25.602, 'epoch': 4.0}\n"
     ]
    },
    {
     "name": "stderr",
     "output_type": "stream",
     "text": [
      "\n",
      "                                      \n",
      "\u001b[A                                            \n",
      "\n",
      "  0%|          | 0/60 [03:23<?, ?it/s]\n",
      "\u001b[A\n",
      "\u001b[A"
     ]
    },
    {
     "name": "stdout",
     "output_type": "stream",
     "text": [
      "{'eval_loss': 1.0716314315795898, 'eval_accuracy': 0.3560606060606061, 'eval_runtime': 0.1197, 'eval_samples_per_second': 1102.81, 'eval_steps_per_second': 25.064, 'epoch': 5.0}\n"
     ]
    },
    {
     "name": "stderr",
     "output_type": "stream",
     "text": [
      "\n",
      "                                      \n",
      "\u001b[A                                            \n",
      "\n",
      "  0%|          | 0/60 [03:25<?, ?it/s]\n",
      "\u001b[A\n",
      "\u001b[A"
     ]
    },
    {
     "name": "stdout",
     "output_type": "stream",
     "text": [
      "{'eval_loss': 1.068103551864624, 'eval_accuracy': 0.3560606060606061, 'eval_runtime': 0.1321, 'eval_samples_per_second': 999.522, 'eval_steps_per_second': 22.716, 'epoch': 6.0}\n"
     ]
    },
    {
     "name": "stderr",
     "output_type": "stream",
     "text": [
      "\n",
      "                                      \n",
      "\u001b[A                                            \n",
      "\n",
      "  0%|          | 0/60 [03:28<?, ?it/s]\n",
      "\u001b[A\n",
      "\u001b[A"
     ]
    },
    {
     "name": "stdout",
     "output_type": "stream",
     "text": [
      "{'eval_loss': 1.0647814273834229, 'eval_accuracy': 0.3560606060606061, 'eval_runtime': 0.132, 'eval_samples_per_second': 999.897, 'eval_steps_per_second': 22.725, 'epoch': 7.0}\n"
     ]
    },
    {
     "name": "stderr",
     "output_type": "stream",
     "text": [
      "\n",
      "                                      \n",
      "\u001b[A                                            \n",
      "\n",
      "  0%|          | 0/60 [03:29<?, ?it/s]\n",
      "\u001b[A\n",
      "\u001b[A"
     ]
    },
    {
     "name": "stdout",
     "output_type": "stream",
     "text": [
      "{'eval_loss': 1.061734676361084, 'eval_accuracy': 0.3560606060606061, 'eval_runtime': 0.1179, 'eval_samples_per_second': 1120.011, 'eval_steps_per_second': 25.455, 'epoch': 8.0}\n"
     ]
    },
    {
     "name": "stderr",
     "output_type": "stream",
     "text": [
      "\n",
      "                                      \n",
      "\u001b[A                                            \n",
      "\n",
      "  0%|          | 0/60 [03:30<?, ?it/s]\n",
      "\u001b[A\n",
      "\u001b[A"
     ]
    },
    {
     "name": "stdout",
     "output_type": "stream",
     "text": [
      "{'eval_loss': 1.0588958263397217, 'eval_accuracy': 0.36363636363636365, 'eval_runtime': 0.119, 'eval_samples_per_second': 1109.042, 'eval_steps_per_second': 25.205, 'epoch': 9.0}\n"
     ]
    },
    {
     "name": "stderr",
     "output_type": "stream",
     "text": [
      "\n",
      "                                      \n",
      "\u001b[A                                            \n",
      "\n",
      "  0%|          | 0/60 [03:32<?, ?it/s]\n",
      "\u001b[A\n",
      "\u001b[A"
     ]
    },
    {
     "name": "stdout",
     "output_type": "stream",
     "text": [
      "{'eval_loss': 1.056265950202942, 'eval_accuracy': 0.4015151515151515, 'eval_runtime': 0.1174, 'eval_samples_per_second': 1124.156, 'eval_steps_per_second': 25.549, 'epoch': 10.0}\n"
     ]
    },
    {
     "name": "stderr",
     "output_type": "stream",
     "text": [
      "\n",
      "                                      \n",
      "\u001b[A                                            \n",
      "\n",
      "  0%|          | 0/60 [03:33<?, ?it/s]\n",
      "\u001b[A\n",
      "\u001b[A"
     ]
    },
    {
     "name": "stdout",
     "output_type": "stream",
     "text": [
      "{'eval_loss': 1.0538983345031738, 'eval_accuracy': 0.4090909090909091, 'eval_runtime': 0.1183, 'eval_samples_per_second': 1116.179, 'eval_steps_per_second': 25.368, 'epoch': 11.0}\n"
     ]
    },
    {
     "name": "stderr",
     "output_type": "stream",
     "text": [
      "\n",
      "                                      \n",
      "\u001b[A                                            \n",
      "\n",
      "  0%|          | 0/60 [03:35<?, ?it/s]\n",
      "\u001b[A\n",
      "\u001b[A"
     ]
    },
    {
     "name": "stdout",
     "output_type": "stream",
     "text": [
      "{'eval_loss': 1.051780104637146, 'eval_accuracy': 0.42424242424242425, 'eval_runtime': 0.1216, 'eval_samples_per_second': 1085.323, 'eval_steps_per_second': 24.666, 'epoch': 12.0}\n"
     ]
    },
    {
     "name": "stderr",
     "output_type": "stream",
     "text": [
      "\n",
      "                                      \n",
      "\u001b[A                                            \n",
      "\n",
      "  0%|          | 0/60 [03:36<?, ?it/s]\n",
      "\u001b[A\n",
      "\u001b[A"
     ]
    },
    {
     "name": "stdout",
     "output_type": "stream",
     "text": [
      "{'eval_loss': 1.0499203205108643, 'eval_accuracy': 0.45454545454545453, 'eval_runtime': 0.117, 'eval_samples_per_second': 1128.496, 'eval_steps_per_second': 25.648, 'epoch': 13.0}\n"
     ]
    },
    {
     "name": "stderr",
     "output_type": "stream",
     "text": [
      "\n",
      "                                      \n",
      "\u001b[A                                            \n",
      "\n",
      "  0%|          | 0/60 [03:37<?, ?it/s]\n",
      "\u001b[A\n",
      "\u001b[A"
     ]
    },
    {
     "name": "stdout",
     "output_type": "stream",
     "text": [
      "{'eval_loss': 1.048315405845642, 'eval_accuracy': 0.4772727272727273, 'eval_runtime': 0.1169, 'eval_samples_per_second': 1129.161, 'eval_steps_per_second': 25.663, 'epoch': 14.0}\n"
     ]
    },
    {
     "name": "stderr",
     "output_type": "stream",
     "text": [
      "\n",
      "                                      \n",
      "\u001b[A                                            \n",
      "\n",
      "  0%|          | 0/60 [03:39<?, ?it/s]\n",
      "\u001b[A\n",
      "\u001b[A"
     ]
    },
    {
     "name": "stdout",
     "output_type": "stream",
     "text": [
      "{'eval_loss': 1.046942114830017, 'eval_accuracy': 0.5378787878787878, 'eval_runtime': 0.1177, 'eval_samples_per_second': 1121.694, 'eval_steps_per_second': 25.493, 'epoch': 15.0}\n"
     ]
    },
    {
     "name": "stderr",
     "output_type": "stream",
     "text": [
      "\n",
      "                                      \n",
      "\u001b[A                                            \n",
      "\n",
      "  0%|          | 0/60 [03:40<?, ?it/s]\n",
      "\u001b[A\n",
      "\u001b[A"
     ]
    },
    {
     "name": "stdout",
     "output_type": "stream",
     "text": [
      "{'eval_loss': 1.0458159446716309, 'eval_accuracy': 0.553030303030303, 'eval_runtime': 0.1173, 'eval_samples_per_second': 1125.601, 'eval_steps_per_second': 25.582, 'epoch': 16.0}\n"
     ]
    },
    {
     "name": "stderr",
     "output_type": "stream",
     "text": [
      "\n",
      "                                      \n",
      "\u001b[A                                            \n",
      "\n",
      "  0%|          | 0/60 [03:41<?, ?it/s]\n",
      "\u001b[A\n",
      "\u001b[A"
     ]
    },
    {
     "name": "stdout",
     "output_type": "stream",
     "text": [
      "{'eval_loss': 1.0449113845825195, 'eval_accuracy': 0.5606060606060606, 'eval_runtime': 0.1196, 'eval_samples_per_second': 1103.857, 'eval_steps_per_second': 25.088, 'epoch': 17.0}\n"
     ]
    },
    {
     "name": "stderr",
     "output_type": "stream",
     "text": [
      "\n",
      "                                      \n",
      "\u001b[A                                            \n",
      "\n",
      "  0%|          | 0/60 [03:43<?, ?it/s]\n",
      "\u001b[A\n",
      "\u001b[A"
     ]
    },
    {
     "name": "stdout",
     "output_type": "stream",
     "text": [
      "{'eval_loss': 1.0442523956298828, 'eval_accuracy': 0.5606060606060606, 'eval_runtime': 0.1193, 'eval_samples_per_second': 1106.646, 'eval_steps_per_second': 25.151, 'epoch': 18.0}\n"
     ]
    },
    {
     "name": "stderr",
     "output_type": "stream",
     "text": [
      "\n",
      "                                      \n",
      "\u001b[A                                            \n",
      "\n",
      "  0%|          | 0/60 [03:44<?, ?it/s]\n",
      "\u001b[A\n",
      "\u001b[A"
     ]
    },
    {
     "name": "stdout",
     "output_type": "stream",
     "text": [
      "{'eval_loss': 1.04384446144104, 'eval_accuracy': 0.5606060606060606, 'eval_runtime': 0.1211, 'eval_samples_per_second': 1089.852, 'eval_steps_per_second': 24.769, 'epoch': 19.0}\n"
     ]
    },
    {
     "name": "stderr",
     "output_type": "stream",
     "text": [
      "\n",
      "                                      \n",
      "\u001b[A                                            \n",
      "\n",
      "  0%|          | 0/60 [03:46<?, ?it/s]\n",
      "\u001b[A\n",
      "\u001b[A"
     ]
    },
    {
     "name": "stdout",
     "output_type": "stream",
     "text": [
      "{'eval_loss': 1.0436853170394897, 'eval_accuracy': 0.5606060606060606, 'eval_runtime': 0.1202, 'eval_samples_per_second': 1097.994, 'eval_steps_per_second': 24.954, 'epoch': 20.0}\n"
     ]
    },
    {
     "name": "stderr",
     "output_type": "stream",
     "text": [
      "                                      \n",
      "100%|██████████| 60/60 [00:29<00:00,  2.01it/s]"
     ]
    },
    {
     "name": "stdout",
     "output_type": "stream",
     "text": [
      "{'train_runtime': 29.8246, 'train_samples_per_second': 88.518, 'train_steps_per_second': 2.012, 'train_loss': 1.0698511759440104, 'epoch': 20.0}\n"
     ]
    },
    {
     "name": "stderr",
     "output_type": "stream",
     "text": [
      "\n"
     ]
    },
    {
     "data": {
      "text/plain": [
       "TrainOutput(global_step=60, training_loss=1.0698511759440104, metrics={'train_runtime': 29.8246, 'train_samples_per_second': 88.518, 'train_steps_per_second': 2.012, 'total_flos': 9718933795128.0, 'train_loss': 1.0698511759440104, 'epoch': 20.0})"
      ]
     },
     "execution_count": 113,
     "metadata": {},
     "output_type": "execute_result"
    }
   ],
   "source": [
    "trainer.train()"
   ]
  },
  {
   "cell_type": "markdown",
   "metadata": {},
   "source": [
    "# Testing"
   ]
  },
  {
   "cell_type": "code",
   "execution_count": 118,
   "metadata": {},
   "outputs": [
    {
     "name": "stdout",
     "output_type": "stream",
     "text": [
      "tensor([[ 0.0919, -0.0365, -0.0486]])\n",
      "tensor([[0.3638, 0.3200, 0.3162]])\n"
     ]
    },
    {
     "data": {
      "text/plain": [
       "'saludo'"
      ]
     },
     "execution_count": 118,
     "metadata": {},
     "output_type": "execute_result"
    }
   ],
   "source": [
    "from transformers import AutoTokenizer\n",
    "\n",
    "text = \"como se llama su equipo?\"\n",
    "\n",
    "tokenizer = AutoTokenizer.from_pretrained(\"model_ckp/checkpoint-60\")\n",
    "inputs = tokenizer(text, return_tensors=\"pt\")\n",
    "\n",
    "from transformers import AutoModelForSequenceClassification\n",
    "import torch\n",
    "\n",
    "model = AutoModelForSequenceClassification.from_pretrained(\"model_ckp/checkpoint-60\")\n",
    "with torch.no_grad():\n",
    "    logits = model(**inputs).logits\n",
    "\n",
    "print(logits)\n",
    "print(torch.softmax(logits,dim=1))\n",
    "\n",
    "predicted_class_id = logits.argmax().item()\n",
    "\n",
    "model.config.id2label[predicted_class_id]"
   ]
  },
  {
   "cell_type": "code",
   "execution_count": null,
   "metadata": {},
   "outputs": [],
   "source": []
  }
 ],
 "metadata": {
  "kernelspec": {
   "display_name": "pytorch",
   "language": "python",
   "name": "python3"
  },
  "language_info": {
   "codemirror_mode": {
    "name": "ipython",
    "version": 3
   },
   "file_extension": ".py",
   "mimetype": "text/x-python",
   "name": "python",
   "nbconvert_exporter": "python",
   "pygments_lexer": "ipython3",
   "version": "3.12.3"
  }
 },
 "nbformat": 4,
 "nbformat_minor": 2
}
